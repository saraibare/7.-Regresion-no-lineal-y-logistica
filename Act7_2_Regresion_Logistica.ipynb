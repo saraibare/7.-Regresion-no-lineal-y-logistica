{
  "nbformat": 4,
  "nbformat_minor": 0,
  "metadata": {
    "colab": {
      "provenance": [],
      "collapsed_sections": [
        "Ri53Y1gdR0-V",
        "OJ3BsfcRUyUq",
        "0L71Wi9MUKT6",
        "SE6-O-mpcAjT"
      ],
      "toc_visible": true,
      "include_colab_link": true
    },
    "kernelspec": {
      "name": "python3",
      "display_name": "Python 3"
    },
    "language_info": {
      "name": "python"
    }
  },
  "cells": [
    {
      "cell_type": "markdown",
      "metadata": {
        "id": "view-in-github",
        "colab_type": "text"
      },
      "source": [
        "<a href=\"https://colab.research.google.com/github/saraibare/7.-Regresion-no-lineal-y-logistica/blob/main/Act7_2_Regresion_Logistica.ipynb\" target=\"_parent\"><img src=\"https://colab.research.google.com/assets/colab-badge.svg\" alt=\"Open In Colab\"/></a>"
      ]
    },
    {
      "cell_type": "markdown",
      "source": [
        "# **Actividad 7.2 (Regresión Logística)**\n",
        "\n",
        "\n",
        "Brenda Villa Campos A01732238\n",
        "\n",
        "Sara Ibarra Reyes A01734979\n",
        "\n",
        "Camila Murillo A00828860"
      ],
      "metadata": {
        "id": "2HW5CS8tXMg9"
      }
    },
    {
      "cell_type": "code",
      "execution_count": null,
      "metadata": {
        "id": "38EWRjuebp99"
      },
      "outputs": [],
      "source": [
        "#Cargamos librerias\n",
        "import pandas as pd\n",
        "import numpy as np\n",
        "import matplotlib.pyplot as plt\n",
        "import scipy.special as special\n",
        "from scipy.optimize import curve_fit\n",
        "import seaborn as sns\n",
        "from sklearn.metrics import r2_score\n",
        "from sklearn.model_selection import train_test_split\n",
        "from sklearn.preprocessing import StandardScaler"
      ]
    },
    {
      "cell_type": "code",
      "source": [
        "#Cargar archivo csv\n",
        "gastos2020=pd.read_csv(\"gastos2020_iqr.csv\")\n",
        "gastos2021=pd.read_csv(\"gastos2021_iqr.csv\")\n",
        "gastos2022=pd.read_csv(\"gastos2022_iqr.csv\")\n",
        "gastos2023=pd.read_csv(\"gastos2023_iqr.csv\")"
      ],
      "metadata": {
        "id": "dUTL3f-ucVrR"
      },
      "execution_count": null,
      "outputs": []
    },
    {
      "cell_type": "markdown",
      "source": [
        "## **Gastos y costos 2020**"
      ],
      "metadata": {
        "id": "Ri53Y1gdR0-V"
      }
    },
    {
      "cell_type": "code",
      "source": [
        "unico = np.unique(gastos2020['TIPO GASTO'])\n",
        "unico"
      ],
      "metadata": {
        "colab": {
          "base_uri": "https://localhost:8080/"
        },
        "outputId": "e95aa862-11eb-4194-da12-b8df12914487",
        "id": "29qHZLRyRGxT"
      },
      "execution_count": null,
      "outputs": [
        {
          "output_type": "execute_result",
          "data": {
            "text/plain": [
              "array(['ALIMENTOS', 'ARRENDAMIENTO FINANCIERO', 'ARRENDAMIENTO LOCAL',\n",
              "       'ATENCION CLIENTES', 'CALIBRACIONES', 'CAPACITACION',\n",
              "       'COMBUSTIBLE', 'COMISION BANCARIA', 'COMISION VENTA', 'COMPRAS',\n",
              "       'DERECHOS', 'ENERGIA ELECTRICA', 'FLETES', 'GERENCIA ADMON',\n",
              "       'GERENCIA VTAS', 'HONORARIOS ADMON', 'HONORARIOS CONTABLES',\n",
              "       'HONORARIOS PM', 'HOSPEDAJE', 'IMSS/INFONAVIT', 'MAQUILAS GIC',\n",
              "       'MAQUINARIA', 'MEDICOS', 'MENSAJERIA', 'MOBILIARIO',\n",
              "       'MTTO COMPUTO', 'MTTO LOCAL', 'MTTO TRANSPORTE', 'NO DEDUCIBLE',\n",
              "       'PAPELERIA', 'PAQUETERIA', 'PEAJES', 'PUBLICIDAD',\n",
              "       'REPARACIONES ELECTRICAS', 'SEGUROS', 'SERV FUNERARIO ',\n",
              "       'SUBCONTRATOS', 'SUSCRIPCIONES', 'TELEFONO', 'TRANSPORTE',\n",
              "       'UNIFORME', 'VALES DESPENSA'], dtype=object)"
            ]
          },
          "metadata": {},
          "execution_count": 3
        }
      ]
    },
    {
      "cell_type": "code",
      "source": [
        "gastos2020['TIPO GASTO']= gastos2020['TIPO GASTO'].replace(['ALIMENTOS', 'ARRENDAMIENTO FINANCIERO', 'ARRENDAMIENTO LOCAL',\n",
        "       'ATENCION CLIENTES', 'CALIBRACIONES', 'CAPACITACION',\n",
        "       'COMBUSTIBLE', 'COMISION BANCARIA', 'COMISION VENTA',\n",
        "       'DERECHOS', 'ENERGIA ELECTRICA', 'FLETES', 'GERENCIA ADMON',\n",
        "       'GERENCIA VTAS', 'HONORARIOS ADMON', 'HONORARIOS CONTABLES',\n",
        "       'HONORARIOS PM', 'HOSPEDAJE', 'IMSS/INFONAVIT', 'MAQUILAS GIC',\n",
        "       'MAQUINARIA', 'MEDICOS', 'MENSAJERIA', 'MOBILIARIO',\n",
        "       'MTTO COMPUTO', 'MTTO LOCAL', 'MTTO TRANSPORTE', 'NO DEDUCIBLE',\n",
        "       'PAPELERIA', 'PAQUETERIA', 'PEAJES', 'PUBLICIDAD',\n",
        "       'REPARACIONES ELECTRICAS', 'SEGUROS', 'SERV FUNERARIO ',\n",
        "       'SUBCONTRATOS', 'SUSCRIPCIONES', 'TELEFONO', 'TRANSPORTE',\n",
        "       'UNIFORME', 'VALES DESPENSA'], \"OTROS GASTOS\")\n",
        "gastos2020['TIPO GASTO']"
      ],
      "metadata": {
        "colab": {
          "base_uri": "https://localhost:8080/"
        },
        "id": "VhhEBZ1ZRGxU",
        "outputId": "8a83c273-9831-4007-9199-340c1dc621be"
      },
      "execution_count": null,
      "outputs": [
        {
          "output_type": "execute_result",
          "data": {
            "text/plain": [
              "0       OTROS GASTOS\n",
              "1       OTROS GASTOS\n",
              "2       OTROS GASTOS\n",
              "3       OTROS GASTOS\n",
              "4            COMPRAS\n",
              "            ...     \n",
              "3337    OTROS GASTOS\n",
              "3338    OTROS GASTOS\n",
              "3339    OTROS GASTOS\n",
              "3340    OTROS GASTOS\n",
              "3341    OTROS GASTOS\n",
              "Name: TIPO GASTO, Length: 3342, dtype: object"
            ]
          },
          "metadata": {},
          "execution_count": 4
        }
      ]
    },
    {
      "cell_type": "code",
      "source": [
        "X= gastos2020[['TOTAL MX']]\n",
        "y= gastos2020['TIPO GASTO']"
      ],
      "metadata": {
        "id": "wACjx4bAchca"
      },
      "execution_count": null,
      "outputs": []
    },
    {
      "cell_type": "code",
      "source": [
        "X_train, X_test, y_train, y_test = train_test_split(X, y, test_size=0.3, random_state =None)"
      ],
      "metadata": {
        "id": "0SlqN20_ckc5"
      },
      "execution_count": null,
      "outputs": []
    },
    {
      "cell_type": "code",
      "source": [
        "escalar = StandardScaler()"
      ],
      "metadata": {
        "id": "MkwSH7-1eZpR"
      },
      "execution_count": null,
      "outputs": []
    },
    {
      "cell_type": "code",
      "source": [
        "X_train = escalar.fit_transform(X_train)\n",
        "X_test = escalar.transform(X_test)"
      ],
      "metadata": {
        "id": "m7G55cbNefKi"
      },
      "execution_count": null,
      "outputs": []
    },
    {
      "cell_type": "code",
      "source": [
        "from sklearn.linear_model import LogisticRegression\n",
        "algoritmo = LogisticRegression()"
      ],
      "metadata": {
        "id": "9ODFuBepehxE"
      },
      "execution_count": null,
      "outputs": []
    },
    {
      "cell_type": "code",
      "source": [
        "algoritmo.fit(X_train, y_train)"
      ],
      "metadata": {
        "colab": {
          "base_uri": "https://localhost:8080/",
          "height": 75
        },
        "id": "TGoNkF8eej4u",
        "outputId": "54715a6d-86a5-42b9-f9bd-bfc94e82b6db"
      },
      "execution_count": null,
      "outputs": [
        {
          "output_type": "execute_result",
          "data": {
            "text/plain": [
              "LogisticRegression()"
            ],
            "text/html": [
              "<style>#sk-container-id-1 {color: black;background-color: white;}#sk-container-id-1 pre{padding: 0;}#sk-container-id-1 div.sk-toggleable {background-color: white;}#sk-container-id-1 label.sk-toggleable__label {cursor: pointer;display: block;width: 100%;margin-bottom: 0;padding: 0.3em;box-sizing: border-box;text-align: center;}#sk-container-id-1 label.sk-toggleable__label-arrow:before {content: \"▸\";float: left;margin-right: 0.25em;color: #696969;}#sk-container-id-1 label.sk-toggleable__label-arrow:hover:before {color: black;}#sk-container-id-1 div.sk-estimator:hover label.sk-toggleable__label-arrow:before {color: black;}#sk-container-id-1 div.sk-toggleable__content {max-height: 0;max-width: 0;overflow: hidden;text-align: left;background-color: #f0f8ff;}#sk-container-id-1 div.sk-toggleable__content pre {margin: 0.2em;color: black;border-radius: 0.25em;background-color: #f0f8ff;}#sk-container-id-1 input.sk-toggleable__control:checked~div.sk-toggleable__content {max-height: 200px;max-width: 100%;overflow: auto;}#sk-container-id-1 input.sk-toggleable__control:checked~label.sk-toggleable__label-arrow:before {content: \"▾\";}#sk-container-id-1 div.sk-estimator input.sk-toggleable__control:checked~label.sk-toggleable__label {background-color: #d4ebff;}#sk-container-id-1 div.sk-label input.sk-toggleable__control:checked~label.sk-toggleable__label {background-color: #d4ebff;}#sk-container-id-1 input.sk-hidden--visually {border: 0;clip: rect(1px 1px 1px 1px);clip: rect(1px, 1px, 1px, 1px);height: 1px;margin: -1px;overflow: hidden;padding: 0;position: absolute;width: 1px;}#sk-container-id-1 div.sk-estimator {font-family: monospace;background-color: #f0f8ff;border: 1px dotted black;border-radius: 0.25em;box-sizing: border-box;margin-bottom: 0.5em;}#sk-container-id-1 div.sk-estimator:hover {background-color: #d4ebff;}#sk-container-id-1 div.sk-parallel-item::after {content: \"\";width: 100%;border-bottom: 1px solid gray;flex-grow: 1;}#sk-container-id-1 div.sk-label:hover label.sk-toggleable__label {background-color: #d4ebff;}#sk-container-id-1 div.sk-serial::before {content: \"\";position: absolute;border-left: 1px solid gray;box-sizing: border-box;top: 0;bottom: 0;left: 50%;z-index: 0;}#sk-container-id-1 div.sk-serial {display: flex;flex-direction: column;align-items: center;background-color: white;padding-right: 0.2em;padding-left: 0.2em;position: relative;}#sk-container-id-1 div.sk-item {position: relative;z-index: 1;}#sk-container-id-1 div.sk-parallel {display: flex;align-items: stretch;justify-content: center;background-color: white;position: relative;}#sk-container-id-1 div.sk-item::before, #sk-container-id-1 div.sk-parallel-item::before {content: \"\";position: absolute;border-left: 1px solid gray;box-sizing: border-box;top: 0;bottom: 0;left: 50%;z-index: -1;}#sk-container-id-1 div.sk-parallel-item {display: flex;flex-direction: column;z-index: 1;position: relative;background-color: white;}#sk-container-id-1 div.sk-parallel-item:first-child::after {align-self: flex-end;width: 50%;}#sk-container-id-1 div.sk-parallel-item:last-child::after {align-self: flex-start;width: 50%;}#sk-container-id-1 div.sk-parallel-item:only-child::after {width: 0;}#sk-container-id-1 div.sk-dashed-wrapped {border: 1px dashed gray;margin: 0 0.4em 0.5em 0.4em;box-sizing: border-box;padding-bottom: 0.4em;background-color: white;}#sk-container-id-1 div.sk-label label {font-family: monospace;font-weight: bold;display: inline-block;line-height: 1.2em;}#sk-container-id-1 div.sk-label-container {text-align: center;}#sk-container-id-1 div.sk-container {/* jupyter's `normalize.less` sets `[hidden] { display: none; }` but bootstrap.min.css set `[hidden] { display: none !important; }` so we also need the `!important` here to be able to override the default hidden behavior on the sphinx rendered scikit-learn.org. See: https://github.com/scikit-learn/scikit-learn/issues/21755 */display: inline-block !important;position: relative;}#sk-container-id-1 div.sk-text-repr-fallback {display: none;}</style><div id=\"sk-container-id-1\" class=\"sk-top-container\"><div class=\"sk-text-repr-fallback\"><pre>LogisticRegression()</pre><b>In a Jupyter environment, please rerun this cell to show the HTML representation or trust the notebook. <br />On GitHub, the HTML representation is unable to render, please try loading this page with nbviewer.org.</b></div><div class=\"sk-container\" hidden><div class=\"sk-item\"><div class=\"sk-estimator sk-toggleable\"><input class=\"sk-toggleable__control sk-hidden--visually\" id=\"sk-estimator-id-1\" type=\"checkbox\" checked><label for=\"sk-estimator-id-1\" class=\"sk-toggleable__label sk-toggleable__label-arrow\">LogisticRegression</label><div class=\"sk-toggleable__content\"><pre>LogisticRegression()</pre></div></div></div></div></div>"
            ]
          },
          "metadata": {},
          "execution_count": 10
        }
      ]
    },
    {
      "cell_type": "code",
      "source": [
        "y_pred = algoritmo.predict(X_test) \n",
        "y_pred"
      ],
      "metadata": {
        "id": "RmhkpqPufPtq",
        "colab": {
          "base_uri": "https://localhost:8080/"
        },
        "outputId": "60aa752a-0395-42e6-c6f2-355b05c4680d"
      },
      "execution_count": null,
      "outputs": [
        {
          "output_type": "execute_result",
          "data": {
            "text/plain": [
              "array(['OTROS GASTOS', 'OTROS GASTOS', 'OTROS GASTOS', ...,\n",
              "       'OTROS GASTOS', 'OTROS GASTOS', 'OTROS GASTOS'], dtype=object)"
            ]
          },
          "metadata": {},
          "execution_count": 11
        }
      ]
    },
    {
      "cell_type": "code",
      "source": [
        "from sklearn.metrics import confusion_matrix\n",
        "matriz = confusion_matrix(y_test, y_pred)\n",
        "print('Matriz de Confusión:')\n",
        "print(matriz)"
      ],
      "metadata": {
        "colab": {
          "base_uri": "https://localhost:8080/"
        },
        "id": "HcmoerMWfSgz",
        "outputId": "5f46c3b9-3720-467f-f952-896c1a9f8715"
      },
      "execution_count": null,
      "outputs": [
        {
          "output_type": "stream",
          "name": "stdout",
          "text": [
            "Matriz de Confusión:\n",
            "[[ 82 363]\n",
            " [ 67 491]]\n"
          ]
        }
      ]
    },
    {
      "cell_type": "code",
      "source": [
        "from sklearn.metrics import precision_score\n",
        "\n",
        "precision_2020 = precision_score(y_test, y_pred, average=\"binary\", pos_label=\"COMPRAS\")\n",
        "print('Precisión del modelo:')\n",
        "print(precision_2020)"
      ],
      "metadata": {
        "colab": {
          "base_uri": "https://localhost:8080/"
        },
        "id": "EZLYhQv9ffsZ",
        "outputId": "8f7a17b5-6e67-47cc-f6bd-a0a33c88462f"
      },
      "execution_count": null,
      "outputs": [
        {
          "output_type": "stream",
          "name": "stdout",
          "text": [
            "Precisión del modelo:\n",
            "0.5503355704697986\n"
          ]
        }
      ]
    },
    {
      "cell_type": "code",
      "source": [
        "from sklearn.metrics import accuracy_score\n",
        "\n",
        "exactitud_2020 = accuracy_score(y_test, y_pred)\n",
        "print('Exactitud del modelo:')\n",
        "print(exactitud_2020)"
      ],
      "metadata": {
        "colab": {
          "base_uri": "https://localhost:8080/"
        },
        "id": "JuQmoNf8gPHT",
        "outputId": "057023ee-7826-44ab-c01d-ce20f85bd5b6"
      },
      "execution_count": null,
      "outputs": [
        {
          "output_type": "stream",
          "name": "stdout",
          "text": [
            "Exactitud del modelo:\n",
            "0.5712861415752741\n"
          ]
        }
      ]
    },
    {
      "cell_type": "code",
      "source": [
        "from sklearn.metrics import recall_score\n",
        "\n",
        "sensibilidad_2020 = recall_score(y_test, y_pred, average=\"binary\", pos_label=\"COMPRAS\")\n",
        "print('Sensibilidad del modelo:')\n",
        "print(sensibilidad_2020)"
      ],
      "metadata": {
        "colab": {
          "base_uri": "https://localhost:8080/"
        },
        "id": "2ROKMocYgRNb",
        "outputId": "5de14133-af64-406c-d8b5-9da74bcb2daf"
      },
      "execution_count": null,
      "outputs": [
        {
          "output_type": "stream",
          "name": "stdout",
          "text": [
            "Sensibilidad del modelo:\n",
            "0.1842696629213483\n"
          ]
        }
      ]
    },
    {
      "cell_type": "markdown",
      "source": [
        "## **Gastos y costos 2021**"
      ],
      "metadata": {
        "id": "OJ3BsfcRUyUq"
      }
    },
    {
      "cell_type": "code",
      "source": [
        "np.unique(gastos2021['TIPO GASTO'])\n"
      ],
      "metadata": {
        "colab": {
          "base_uri": "https://localhost:8080/"
        },
        "id": "ywmoVvmvU2bV",
        "outputId": "c9f4a288-1637-435b-8cd3-bb500ad34137"
      },
      "execution_count": null,
      "outputs": [
        {
          "output_type": "execute_result",
          "data": {
            "text/plain": [
              "array(['ALIMENTOS', 'ARRENDAMIENTO FINANCIERO', 'ARRENDAMIENTO LOCAL',\n",
              "       'BOTIQUIN', 'CALIBRACIONES', 'CAPACITACION', 'COMBUSTIBLE ',\n",
              "       'COMISION BANCARIA', 'COMISION MIXTA', 'COMPRA COMPUTADORA ',\n",
              "       'COMPRA TABLET ', 'COMPRAS', 'COMPRAS ', 'DERECHOS',\n",
              "       'ENERGIA ELECTRICA', 'FLETE', 'FLETES', 'GASOLINA',\n",
              "       'GASTOS IMPORTACION ', 'GERENCIA ADMON', 'GERENCIA VTAS',\n",
              "       'HONORARIOS CONTABLES', 'HONORARIOS JURIDICOS', 'HONORARIOS PF',\n",
              "       'HONORARIOS PM', 'HOSPEDAJE', 'HOSPEDAJE ', 'IMSS/INFONAVIT',\n",
              "       'MAQUILAS', 'MAQUILAS GIC', 'MAQUINARIA', 'MEDICOS', 'MENSAJERIA',\n",
              "       'MONITOREO CAMARAS ADT', 'MTTO COMPUTO', 'MTTO LOCAL',\n",
              "       'MTTO MAQUINARIA', 'MTTO OFICINA ', 'MTTO TRANSPORTE',\n",
              "       'NO DEDUCIBLE', 'PAPELERIA', 'PAQUETERIA', 'PEAJES', 'PUBLICIDAD',\n",
              "       'RENTA COPIADORA', 'RENTA OFICINA ', 'SANITIZACION', 'SEGUROS',\n",
              "       'SUELDOS DIRECCION', 'SUELDOS PRODUCCION', 'SUELDOS VENTAS',\n",
              "       'SUSCRIPCIONES', 'TELEFONO', 'TRANSPORTE', 'UNIFORME',\n",
              "       'VALES DESPENSA'], dtype=object)"
            ]
          },
          "metadata": {},
          "execution_count": 16
        }
      ]
    },
    {
      "cell_type": "code",
      "source": [
        "gastos2021['TIPO GASTO']= gastos2021['TIPO GASTO'].replace(['ALIMENTOS', 'ARRENDAMIENTO FINANCIERO', 'ARRENDAMIENTO LOCAL',\n",
        "       'BOTIQUIN', 'CALIBRACIONES', 'CAPACITACION', 'COMBUSTIBLE ',\n",
        "       'COMISION BANCARIA', 'COMISION MIXTA', 'COMPRA COMPUTADORA ',\n",
        "       'COMPRA TABLET ', 'DERECHOS',\n",
        "       'ENERGIA ELECTRICA', 'FLETE', 'FLETES', 'GASOLINA',\n",
        "       'GASTOS IMPORTACION ', 'GERENCIA ADMON', 'GERENCIA VTAS',\n",
        "       'HONORARIOS CONTABLES', 'HONORARIOS JURIDICOS', 'HONORARIOS PF',\n",
        "       'HONORARIOS PM', 'HOSPEDAJE', 'HOSPEDAJE ', 'IMSS/INFONAVIT',\n",
        "       'MAQUILAS', 'MAQUILAS GIC', 'MAQUINARIA', 'MEDICOS', 'MENSAJERIA',\n",
        "       'MONITOREO CAMARAS ADT', 'MTTO COMPUTO', 'MTTO LOCAL',\n",
        "       'MTTO MAQUINARIA', 'MTTO OFICINA ', 'MTTO TRANSPORTE',\n",
        "       'NO DEDUCIBLE', 'PAPELERIA', 'PAQUETERIA', 'PEAJES', 'PUBLICIDAD',\n",
        "       'RENTA COPIADORA', 'RENTA OFICINA ', 'SANITIZACION', 'SEGUROS',\n",
        "       'SUELDOS DIRECCION', 'SUELDOS PRODUCCION', 'SUELDOS VENTAS',\n",
        "       'SUSCRIPCIONES', 'TELEFONO', 'TRANSPORTE', 'UNIFORME',\n",
        "       'VALES DESPENSA'], 'Otros gastos')\n",
        "gastos2021['TIPO GASTO']= gastos2021['TIPO GASTO'].replace(['COMPRAS', 'COMPRAS '], 'Compras')\n",
        "gastos2021['TIPO GASTO'].value_counts()"
      ],
      "metadata": {
        "colab": {
          "base_uri": "https://localhost:8080/"
        },
        "id": "k3Xajx_IVa1i",
        "outputId": "39b239c0-b4bb-48f9-86b7-dfbc9e956389"
      },
      "execution_count": null,
      "outputs": [
        {
          "output_type": "execute_result",
          "data": {
            "text/plain": [
              "Compras         1531\n",
              "Otros gastos    1504\n",
              "Name: TIPO GASTO, dtype: int64"
            ]
          },
          "metadata": {},
          "execution_count": 17
        }
      ]
    },
    {
      "cell_type": "code",
      "source": [
        "#Declaramos las variables dependientes e independientes para la regresión Logística\n",
        "X= gastos2021[['TOTAL MX']]\n",
        "y= gastos2021['TIPO GASTO']\n",
        "\n",
        "#Dividimos el conjunto de datos en la parte de entrenamiento y prueba:\n",
        "X_train, X_test, y_train, y_test = train_test_split(X, y, test_size=0.3, random_state =None)\n",
        "\n",
        "#Se escalan todos los datos\n",
        "escalar = StandardScaler()\n",
        "\n",
        "#Para realizar el escalamiento de las variables “X” tanto de entrenamiento como de prueba, utilizaremos fit_transform\n",
        "X_train = escalar.fit_transform(X_train)\n",
        "X_test = escalar.transform(X_test)\n",
        "\n",
        "#Definimos el algoritmo a utilizar\n",
        "from sklearn.linear_model import LogisticRegression\n",
        "algoritmo = LogisticRegression()\n",
        "\n",
        "#Entrenamos el modelo\n",
        "algoritmo.fit(X_train, y_train)\n",
        "\n",
        "#Realizamos una predicción\n",
        "y_pred = algoritmo.predict(X_test) "
      ],
      "metadata": {
        "id": "-VMnSigwWnSX"
      },
      "execution_count": null,
      "outputs": []
    },
    {
      "cell_type": "code",
      "source": [
        "#Calculo la precisión del modelo\n",
        "from sklearn.metrics import precision_score\n",
        "precision_2021 = precision_score(y_test, y_pred, average=\"binary\", pos_label=\"Compras\")\n",
        "\n",
        "\n",
        "#Calculo la exactitud del modelo\n",
        "from sklearn.metrics import accuracy_score\n",
        "exactitud_2021 = accuracy_score(y_test, y_pred)\n",
        "\n",
        "#Calculo la sensibilidad del modelo\n",
        "from sklearn.metrics import recall_score\n",
        "sensibilidad_2021 = recall_score(y_test, y_pred, average=\"binary\", pos_label=\"Compras\")\n",
        "\n",
        "\n",
        "print('Precisión del modelo: %.2f' % precision_2021)\n",
        "print('Exactitud del modelo: %.2f' % exactitud_2021)\n",
        "print('Sensibilidad del modelo: %.2f' % sensibilidad_2021)"
      ],
      "metadata": {
        "colab": {
          "base_uri": "https://localhost:8080/"
        },
        "id": "ojB4DJGqXm5c",
        "outputId": "8ab6cbb0-dcfe-48a7-f446-78962c99f9e7"
      },
      "execution_count": null,
      "outputs": [
        {
          "output_type": "stream",
          "name": "stdout",
          "text": [
            "Precisión del modelo: 0.53\n",
            "Exactitud del modelo: 0.54\n",
            "Sensibilidad del modelo: 0.49\n"
          ]
        }
      ]
    },
    {
      "cell_type": "markdown",
      "source": [
        "## **Gastos y costos 2022**"
      ],
      "metadata": {
        "id": "0L71Wi9MUKT6"
      }
    },
    {
      "cell_type": "code",
      "source": [
        "unico = np.unique(gastos2022['TIPO GASTO'])\n",
        "unico"
      ],
      "metadata": {
        "colab": {
          "base_uri": "https://localhost:8080/"
        },
        "outputId": "5fde8499-f399-4667-e3ec-aee6896cb906",
        "id": "LPkc3Qv1UKUB"
      },
      "execution_count": null,
      "outputs": [
        {
          "output_type": "execute_result",
          "data": {
            "text/plain": [
              "array(['ALIMENTOS', 'ANTICIPO ', 'ANTICIPO COMPRA AUTO',\n",
              "       'ARRENDAMIENTO FINANCIERO', 'ARRENDAMIENTO LOCAL', 'CALIBRACIONES',\n",
              "       'CAPACITACION', 'CASETAS', 'COMISION BANCARIA', 'COMISION MIXTA',\n",
              "       'COMPRA AUTO ', 'COMPRAS', 'COMPRAS ', 'CREDITO ', 'DERECHOS',\n",
              "       'ENERGIA ELECTRICA', 'FLETE', 'GASOLINA', 'GASTOS IMPORTACION ',\n",
              "       'GERENCIA ADMON', 'HONORARIOS CONTABLES', 'HONORARIOS JURIDICOS',\n",
              "       'HONORARIOS PM', 'HOSPEDAJE', 'IMSS/INFONAVIT',\n",
              "       'INSTALACION ELECTRICA', 'MAQUILAS', 'MAQUINARIA', 'MEDICOS',\n",
              "       'MENSAJERIA', 'MONITOREO CAMARAS ADT', 'MTTO COMPUTO',\n",
              "       'MTTO EQUIPO COMPUTO', 'MTTO LOCAL', 'MTTO MAQUINARIA',\n",
              "       'MTTO OFICINA ', 'MTTO TRANSPORTE', 'NO DEDUCIBLE', 'PAPELERIA',\n",
              "       'PAQUETERIA', 'PEAJES', 'PUBLICIDAD', 'RENTA AUTO',\n",
              "       'RENTA COPIADORA', 'SANITIZACION', 'SEGUROS', 'SUBCONTRATOS',\n",
              "       'SUELDOS DIRECCION', 'SUSCRIPCIONES', 'TELEFONO', 'TRANSPORTE',\n",
              "       'UNIFORMES', 'VALES DESPENSA', 'VARIOS'], dtype=object)"
            ]
          },
          "metadata": {},
          "execution_count": 20
        }
      ]
    },
    {
      "cell_type": "code",
      "source": [
        "gastos2022['TIPO GASTO']= gastos2022['TIPO GASTO'].replace(['ALIMENTOS', 'ANTICIPO ', 'ANTICIPO COMPRA AUTO',\n",
        "       'ARRENDAMIENTO FINANCIERO', 'ARRENDAMIENTO LOCAL', 'CALIBRACIONES',\n",
        "       'CAPACITACION', 'CASETAS', 'COMISION BANCARIA', 'COMISION MIXTA',\n",
        "       'COMPRA AUTO ', 'COMPRAS ', 'CREDITO ', 'DERECHOS',\n",
        "       'ENERGIA ELECTRICA', 'FLETE', 'GASOLINA', 'GASTOS IMPORTACION ',\n",
        "       'GERENCIA ADMON', 'HONORARIOS CONTABLES', 'HONORARIOS JURIDICOS',\n",
        "       'HONORARIOS PM', 'HOSPEDAJE', 'IMSS/INFONAVIT',\n",
        "       'INSTALACION ELECTRICA', 'MAQUILAS', 'MAQUINARIA', 'MEDICOS',\n",
        "       'MENSAJERIA', 'MONITOREO CAMARAS ADT', 'MTTO COMPUTO',\n",
        "       'MTTO EQUIPO COMPUTO', 'MTTO LOCAL', 'MTTO MAQUINARIA',\n",
        "       'MTTO OFICINA ', 'MTTO TRANSPORTE', 'NO DEDUCIBLE', 'PAPELERIA',\n",
        "       'PAQUETERIA', 'PEAJES', 'PUBLICIDAD', 'RENTA AUTO',\n",
        "       'RENTA COPIADORA', 'SANITIZACION', 'SEGUROS', 'SUBCONTRATOS',\n",
        "       'SUELDOS DIRECCION', 'SUSCRIPCIONES', 'TELEFONO', 'TRANSPORTE',\n",
        "       'UNIFORMES', 'VALES DESPENSA', 'VARIOS'], \"OTROS GASTOS\")\n",
        "gastos2022['TIPO GASTO']"
      ],
      "metadata": {
        "colab": {
          "base_uri": "https://localhost:8080/"
        },
        "outputId": "46dddfe7-92e8-4f1e-ab7f-6074607f08f5",
        "id": "xI7oSO3bUKUC"
      },
      "execution_count": null,
      "outputs": [
        {
          "output_type": "execute_result",
          "data": {
            "text/plain": [
              "0       OTROS GASTOS\n",
              "1       OTROS GASTOS\n",
              "2       OTROS GASTOS\n",
              "3            COMPRAS\n",
              "4            COMPRAS\n",
              "            ...     \n",
              "2572    OTROS GASTOS\n",
              "2573    OTROS GASTOS\n",
              "2574         COMPRAS\n",
              "2575         COMPRAS\n",
              "2576         COMPRAS\n",
              "Name: TIPO GASTO, Length: 2577, dtype: object"
            ]
          },
          "metadata": {},
          "execution_count": 21
        }
      ]
    },
    {
      "cell_type": "code",
      "source": [
        "X= gastos2022[['TOTAL MX']]\n",
        "y= gastos2022['TIPO GASTO']"
      ],
      "metadata": {
        "id": "9aryNzEIUKUC"
      },
      "execution_count": null,
      "outputs": []
    },
    {
      "cell_type": "code",
      "source": [
        "X_train, X_test, y_train, y_test = train_test_split(X, y, test_size=0.3, random_state =None)"
      ],
      "metadata": {
        "id": "PyxVhk6EUKUC"
      },
      "execution_count": null,
      "outputs": []
    },
    {
      "cell_type": "code",
      "source": [
        "escalar = StandardScaler()"
      ],
      "metadata": {
        "id": "CMqrgTJRUKUC"
      },
      "execution_count": null,
      "outputs": []
    },
    {
      "cell_type": "code",
      "source": [
        "X_train = escalar.fit_transform(X_train)\n",
        "X_test = escalar.transform(X_test)"
      ],
      "metadata": {
        "id": "5nJTEeiuUKUC"
      },
      "execution_count": null,
      "outputs": []
    },
    {
      "cell_type": "code",
      "source": [
        "from sklearn.linear_model import LogisticRegression\n",
        "algoritmo = LogisticRegression()"
      ],
      "metadata": {
        "id": "YH2KVEJaUKUC"
      },
      "execution_count": null,
      "outputs": []
    },
    {
      "cell_type": "code",
      "source": [
        "algoritmo.fit(X_train, y_train)"
      ],
      "metadata": {
        "colab": {
          "base_uri": "https://localhost:8080/",
          "height": 75
        },
        "outputId": "e56b4b01-3b55-4698-892b-6b7f3382d979",
        "id": "qHHZaZrRUKUD"
      },
      "execution_count": null,
      "outputs": [
        {
          "output_type": "execute_result",
          "data": {
            "text/plain": [
              "LogisticRegression()"
            ],
            "text/html": [
              "<style>#sk-container-id-2 {color: black;background-color: white;}#sk-container-id-2 pre{padding: 0;}#sk-container-id-2 div.sk-toggleable {background-color: white;}#sk-container-id-2 label.sk-toggleable__label {cursor: pointer;display: block;width: 100%;margin-bottom: 0;padding: 0.3em;box-sizing: border-box;text-align: center;}#sk-container-id-2 label.sk-toggleable__label-arrow:before {content: \"▸\";float: left;margin-right: 0.25em;color: #696969;}#sk-container-id-2 label.sk-toggleable__label-arrow:hover:before {color: black;}#sk-container-id-2 div.sk-estimator:hover label.sk-toggleable__label-arrow:before {color: black;}#sk-container-id-2 div.sk-toggleable__content {max-height: 0;max-width: 0;overflow: hidden;text-align: left;background-color: #f0f8ff;}#sk-container-id-2 div.sk-toggleable__content pre {margin: 0.2em;color: black;border-radius: 0.25em;background-color: #f0f8ff;}#sk-container-id-2 input.sk-toggleable__control:checked~div.sk-toggleable__content {max-height: 200px;max-width: 100%;overflow: auto;}#sk-container-id-2 input.sk-toggleable__control:checked~label.sk-toggleable__label-arrow:before {content: \"▾\";}#sk-container-id-2 div.sk-estimator input.sk-toggleable__control:checked~label.sk-toggleable__label {background-color: #d4ebff;}#sk-container-id-2 div.sk-label input.sk-toggleable__control:checked~label.sk-toggleable__label {background-color: #d4ebff;}#sk-container-id-2 input.sk-hidden--visually {border: 0;clip: rect(1px 1px 1px 1px);clip: rect(1px, 1px, 1px, 1px);height: 1px;margin: -1px;overflow: hidden;padding: 0;position: absolute;width: 1px;}#sk-container-id-2 div.sk-estimator {font-family: monospace;background-color: #f0f8ff;border: 1px dotted black;border-radius: 0.25em;box-sizing: border-box;margin-bottom: 0.5em;}#sk-container-id-2 div.sk-estimator:hover {background-color: #d4ebff;}#sk-container-id-2 div.sk-parallel-item::after {content: \"\";width: 100%;border-bottom: 1px solid gray;flex-grow: 1;}#sk-container-id-2 div.sk-label:hover label.sk-toggleable__label {background-color: #d4ebff;}#sk-container-id-2 div.sk-serial::before {content: \"\";position: absolute;border-left: 1px solid gray;box-sizing: border-box;top: 0;bottom: 0;left: 50%;z-index: 0;}#sk-container-id-2 div.sk-serial {display: flex;flex-direction: column;align-items: center;background-color: white;padding-right: 0.2em;padding-left: 0.2em;position: relative;}#sk-container-id-2 div.sk-item {position: relative;z-index: 1;}#sk-container-id-2 div.sk-parallel {display: flex;align-items: stretch;justify-content: center;background-color: white;position: relative;}#sk-container-id-2 div.sk-item::before, #sk-container-id-2 div.sk-parallel-item::before {content: \"\";position: absolute;border-left: 1px solid gray;box-sizing: border-box;top: 0;bottom: 0;left: 50%;z-index: -1;}#sk-container-id-2 div.sk-parallel-item {display: flex;flex-direction: column;z-index: 1;position: relative;background-color: white;}#sk-container-id-2 div.sk-parallel-item:first-child::after {align-self: flex-end;width: 50%;}#sk-container-id-2 div.sk-parallel-item:last-child::after {align-self: flex-start;width: 50%;}#sk-container-id-2 div.sk-parallel-item:only-child::after {width: 0;}#sk-container-id-2 div.sk-dashed-wrapped {border: 1px dashed gray;margin: 0 0.4em 0.5em 0.4em;box-sizing: border-box;padding-bottom: 0.4em;background-color: white;}#sk-container-id-2 div.sk-label label {font-family: monospace;font-weight: bold;display: inline-block;line-height: 1.2em;}#sk-container-id-2 div.sk-label-container {text-align: center;}#sk-container-id-2 div.sk-container {/* jupyter's `normalize.less` sets `[hidden] { display: none; }` but bootstrap.min.css set `[hidden] { display: none !important; }` so we also need the `!important` here to be able to override the default hidden behavior on the sphinx rendered scikit-learn.org. See: https://github.com/scikit-learn/scikit-learn/issues/21755 */display: inline-block !important;position: relative;}#sk-container-id-2 div.sk-text-repr-fallback {display: none;}</style><div id=\"sk-container-id-2\" class=\"sk-top-container\"><div class=\"sk-text-repr-fallback\"><pre>LogisticRegression()</pre><b>In a Jupyter environment, please rerun this cell to show the HTML representation or trust the notebook. <br />On GitHub, the HTML representation is unable to render, please try loading this page with nbviewer.org.</b></div><div class=\"sk-container\" hidden><div class=\"sk-item\"><div class=\"sk-estimator sk-toggleable\"><input class=\"sk-toggleable__control sk-hidden--visually\" id=\"sk-estimator-id-2\" type=\"checkbox\" checked><label for=\"sk-estimator-id-2\" class=\"sk-toggleable__label sk-toggleable__label-arrow\">LogisticRegression</label><div class=\"sk-toggleable__content\"><pre>LogisticRegression()</pre></div></div></div></div></div>"
            ]
          },
          "metadata": {},
          "execution_count": 27
        }
      ]
    },
    {
      "cell_type": "code",
      "source": [
        "y_pred = algoritmo.predict(X_test) \n",
        "y_pred"
      ],
      "metadata": {
        "colab": {
          "base_uri": "https://localhost:8080/"
        },
        "outputId": "30255bbf-337f-43d6-cc9c-7092c828a6ab",
        "id": "QfzEBjysUKUD"
      },
      "execution_count": null,
      "outputs": [
        {
          "output_type": "execute_result",
          "data": {
            "text/plain": [
              "array(['COMPRAS', 'OTROS GASTOS', 'COMPRAS', 'OTROS GASTOS',\n",
              "       'OTROS GASTOS', 'OTROS GASTOS', 'OTROS GASTOS', 'OTROS GASTOS',\n",
              "       'OTROS GASTOS', 'OTROS GASTOS', 'OTROS GASTOS', 'OTROS GASTOS',\n",
              "       'OTROS GASTOS', 'OTROS GASTOS', 'COMPRAS', 'OTROS GASTOS',\n",
              "       'OTROS GASTOS', 'OTROS GASTOS', 'COMPRAS', 'OTROS GASTOS',\n",
              "       'OTROS GASTOS', 'OTROS GASTOS', 'OTROS GASTOS', 'OTROS GASTOS',\n",
              "       'OTROS GASTOS', 'OTROS GASTOS', 'OTROS GASTOS', 'OTROS GASTOS',\n",
              "       'OTROS GASTOS', 'OTROS GASTOS', 'COMPRAS', 'OTROS GASTOS',\n",
              "       'OTROS GASTOS', 'OTROS GASTOS', 'OTROS GASTOS', 'OTROS GASTOS',\n",
              "       'COMPRAS', 'OTROS GASTOS', 'OTROS GASTOS', 'OTROS GASTOS',\n",
              "       'OTROS GASTOS', 'OTROS GASTOS', 'OTROS GASTOS', 'OTROS GASTOS',\n",
              "       'OTROS GASTOS', 'OTROS GASTOS', 'OTROS GASTOS', 'OTROS GASTOS',\n",
              "       'COMPRAS', 'OTROS GASTOS', 'COMPRAS', 'OTROS GASTOS',\n",
              "       'OTROS GASTOS', 'OTROS GASTOS', 'OTROS GASTOS', 'OTROS GASTOS',\n",
              "       'OTROS GASTOS', 'OTROS GASTOS', 'OTROS GASTOS', 'OTROS GASTOS',\n",
              "       'OTROS GASTOS', 'OTROS GASTOS', 'COMPRAS', 'OTROS GASTOS',\n",
              "       'COMPRAS', 'COMPRAS', 'OTROS GASTOS', 'OTROS GASTOS',\n",
              "       'OTROS GASTOS', 'OTROS GASTOS', 'OTROS GASTOS', 'OTROS GASTOS',\n",
              "       'OTROS GASTOS', 'COMPRAS', 'OTROS GASTOS', 'OTROS GASTOS',\n",
              "       'OTROS GASTOS', 'OTROS GASTOS', 'OTROS GASTOS', 'OTROS GASTOS',\n",
              "       'OTROS GASTOS', 'COMPRAS', 'OTROS GASTOS', 'OTROS GASTOS',\n",
              "       'OTROS GASTOS', 'OTROS GASTOS', 'OTROS GASTOS', 'OTROS GASTOS',\n",
              "       'OTROS GASTOS', 'OTROS GASTOS', 'OTROS GASTOS', 'OTROS GASTOS',\n",
              "       'OTROS GASTOS', 'OTROS GASTOS', 'OTROS GASTOS', 'COMPRAS',\n",
              "       'OTROS GASTOS', 'OTROS GASTOS', 'OTROS GASTOS', 'OTROS GASTOS',\n",
              "       'OTROS GASTOS', 'OTROS GASTOS', 'OTROS GASTOS', 'OTROS GASTOS',\n",
              "       'OTROS GASTOS', 'OTROS GASTOS', 'OTROS GASTOS', 'OTROS GASTOS',\n",
              "       'OTROS GASTOS', 'OTROS GASTOS', 'OTROS GASTOS', 'COMPRAS',\n",
              "       'OTROS GASTOS', 'OTROS GASTOS', 'COMPRAS', 'OTROS GASTOS',\n",
              "       'OTROS GASTOS', 'OTROS GASTOS', 'OTROS GASTOS', 'OTROS GASTOS',\n",
              "       'OTROS GASTOS', 'COMPRAS', 'OTROS GASTOS', 'OTROS GASTOS',\n",
              "       'OTROS GASTOS', 'OTROS GASTOS', 'OTROS GASTOS', 'OTROS GASTOS',\n",
              "       'OTROS GASTOS', 'OTROS GASTOS', 'OTROS GASTOS', 'OTROS GASTOS',\n",
              "       'OTROS GASTOS', 'COMPRAS', 'OTROS GASTOS', 'OTROS GASTOS',\n",
              "       'OTROS GASTOS', 'OTROS GASTOS', 'COMPRAS', 'OTROS GASTOS',\n",
              "       'COMPRAS', 'OTROS GASTOS', 'OTROS GASTOS', 'OTROS GASTOS',\n",
              "       'COMPRAS', 'OTROS GASTOS', 'COMPRAS', 'OTROS GASTOS',\n",
              "       'OTROS GASTOS', 'COMPRAS', 'OTROS GASTOS', 'OTROS GASTOS',\n",
              "       'OTROS GASTOS', 'COMPRAS', 'OTROS GASTOS', 'COMPRAS',\n",
              "       'OTROS GASTOS', 'OTROS GASTOS', 'OTROS GASTOS', 'OTROS GASTOS',\n",
              "       'OTROS GASTOS', 'COMPRAS', 'OTROS GASTOS', 'OTROS GASTOS',\n",
              "       'OTROS GASTOS', 'OTROS GASTOS', 'OTROS GASTOS', 'COMPRAS',\n",
              "       'OTROS GASTOS', 'OTROS GASTOS', 'OTROS GASTOS', 'OTROS GASTOS',\n",
              "       'OTROS GASTOS', 'OTROS GASTOS', 'OTROS GASTOS', 'OTROS GASTOS',\n",
              "       'COMPRAS', 'OTROS GASTOS', 'OTROS GASTOS', 'OTROS GASTOS',\n",
              "       'OTROS GASTOS', 'COMPRAS', 'OTROS GASTOS', 'OTROS GASTOS',\n",
              "       'COMPRAS', 'OTROS GASTOS', 'COMPRAS', 'OTROS GASTOS',\n",
              "       'OTROS GASTOS', 'OTROS GASTOS', 'OTROS GASTOS', 'COMPRAS',\n",
              "       'OTROS GASTOS', 'OTROS GASTOS', 'OTROS GASTOS', 'OTROS GASTOS',\n",
              "       'OTROS GASTOS', 'OTROS GASTOS', 'COMPRAS', 'OTROS GASTOS',\n",
              "       'OTROS GASTOS', 'OTROS GASTOS', 'OTROS GASTOS', 'OTROS GASTOS',\n",
              "       'OTROS GASTOS', 'OTROS GASTOS', 'OTROS GASTOS', 'OTROS GASTOS',\n",
              "       'OTROS GASTOS', 'OTROS GASTOS', 'OTROS GASTOS', 'OTROS GASTOS',\n",
              "       'OTROS GASTOS', 'OTROS GASTOS', 'OTROS GASTOS', 'OTROS GASTOS',\n",
              "       'OTROS GASTOS', 'OTROS GASTOS', 'OTROS GASTOS', 'OTROS GASTOS',\n",
              "       'OTROS GASTOS', 'COMPRAS', 'OTROS GASTOS', 'OTROS GASTOS',\n",
              "       'COMPRAS', 'COMPRAS', 'COMPRAS', 'OTROS GASTOS', 'OTROS GASTOS',\n",
              "       'OTROS GASTOS', 'OTROS GASTOS', 'OTROS GASTOS', 'OTROS GASTOS',\n",
              "       'COMPRAS', 'OTROS GASTOS', 'OTROS GASTOS', 'OTROS GASTOS',\n",
              "       'COMPRAS', 'OTROS GASTOS', 'COMPRAS', 'OTROS GASTOS',\n",
              "       'OTROS GASTOS', 'OTROS GASTOS', 'COMPRAS', 'OTROS GASTOS',\n",
              "       'OTROS GASTOS', 'COMPRAS', 'OTROS GASTOS', 'OTROS GASTOS',\n",
              "       'OTROS GASTOS', 'OTROS GASTOS', 'OTROS GASTOS', 'COMPRAS',\n",
              "       'OTROS GASTOS', 'OTROS GASTOS', 'OTROS GASTOS', 'OTROS GASTOS',\n",
              "       'OTROS GASTOS', 'OTROS GASTOS', 'COMPRAS', 'COMPRAS',\n",
              "       'OTROS GASTOS', 'OTROS GASTOS', 'COMPRAS', 'COMPRAS',\n",
              "       'OTROS GASTOS', 'OTROS GASTOS', 'COMPRAS', 'COMPRAS',\n",
              "       'OTROS GASTOS', 'OTROS GASTOS', 'COMPRAS', 'OTROS GASTOS',\n",
              "       'OTROS GASTOS', 'OTROS GASTOS', 'OTROS GASTOS', 'OTROS GASTOS',\n",
              "       'OTROS GASTOS', 'OTROS GASTOS', 'OTROS GASTOS', 'OTROS GASTOS',\n",
              "       'OTROS GASTOS', 'OTROS GASTOS', 'OTROS GASTOS', 'OTROS GASTOS',\n",
              "       'OTROS GASTOS', 'OTROS GASTOS', 'OTROS GASTOS', 'COMPRAS',\n",
              "       'OTROS GASTOS', 'OTROS GASTOS', 'OTROS GASTOS', 'OTROS GASTOS',\n",
              "       'OTROS GASTOS', 'COMPRAS', 'OTROS GASTOS', 'OTROS GASTOS',\n",
              "       'OTROS GASTOS', 'OTROS GASTOS', 'OTROS GASTOS', 'OTROS GASTOS',\n",
              "       'OTROS GASTOS', 'OTROS GASTOS', 'OTROS GASTOS', 'OTROS GASTOS',\n",
              "       'OTROS GASTOS', 'OTROS GASTOS', 'OTROS GASTOS', 'OTROS GASTOS',\n",
              "       'OTROS GASTOS', 'OTROS GASTOS', 'OTROS GASTOS', 'OTROS GASTOS',\n",
              "       'COMPRAS', 'COMPRAS', 'OTROS GASTOS', 'OTROS GASTOS',\n",
              "       'OTROS GASTOS', 'OTROS GASTOS', 'OTROS GASTOS', 'OTROS GASTOS',\n",
              "       'OTROS GASTOS', 'OTROS GASTOS', 'OTROS GASTOS', 'COMPRAS',\n",
              "       'OTROS GASTOS', 'COMPRAS', 'OTROS GASTOS', 'OTROS GASTOS',\n",
              "       'OTROS GASTOS', 'COMPRAS', 'OTROS GASTOS', 'OTROS GASTOS',\n",
              "       'OTROS GASTOS', 'OTROS GASTOS', 'OTROS GASTOS', 'OTROS GASTOS',\n",
              "       'OTROS GASTOS', 'OTROS GASTOS', 'OTROS GASTOS', 'COMPRAS',\n",
              "       'OTROS GASTOS', 'OTROS GASTOS', 'OTROS GASTOS', 'OTROS GASTOS',\n",
              "       'COMPRAS', 'OTROS GASTOS', 'COMPRAS', 'OTROS GASTOS', 'COMPRAS',\n",
              "       'COMPRAS', 'OTROS GASTOS', 'OTROS GASTOS', 'OTROS GASTOS',\n",
              "       'OTROS GASTOS', 'OTROS GASTOS', 'OTROS GASTOS', 'OTROS GASTOS',\n",
              "       'OTROS GASTOS', 'OTROS GASTOS', 'OTROS GASTOS', 'OTROS GASTOS',\n",
              "       'COMPRAS', 'OTROS GASTOS', 'OTROS GASTOS', 'OTROS GASTOS',\n",
              "       'COMPRAS', 'OTROS GASTOS', 'OTROS GASTOS', 'OTROS GASTOS',\n",
              "       'OTROS GASTOS', 'OTROS GASTOS', 'COMPRAS', 'OTROS GASTOS',\n",
              "       'COMPRAS', 'COMPRAS', 'OTROS GASTOS', 'OTROS GASTOS',\n",
              "       'OTROS GASTOS', 'OTROS GASTOS', 'OTROS GASTOS', 'OTROS GASTOS',\n",
              "       'COMPRAS', 'OTROS GASTOS', 'OTROS GASTOS', 'OTROS GASTOS',\n",
              "       'OTROS GASTOS', 'OTROS GASTOS', 'OTROS GASTOS', 'OTROS GASTOS',\n",
              "       'OTROS GASTOS', 'OTROS GASTOS', 'OTROS GASTOS', 'OTROS GASTOS',\n",
              "       'OTROS GASTOS', 'OTROS GASTOS', 'OTROS GASTOS', 'COMPRAS',\n",
              "       'OTROS GASTOS', 'OTROS GASTOS', 'OTROS GASTOS', 'OTROS GASTOS',\n",
              "       'OTROS GASTOS', 'OTROS GASTOS', 'OTROS GASTOS', 'OTROS GASTOS',\n",
              "       'OTROS GASTOS', 'COMPRAS', 'OTROS GASTOS', 'OTROS GASTOS',\n",
              "       'OTROS GASTOS', 'OTROS GASTOS', 'OTROS GASTOS', 'OTROS GASTOS',\n",
              "       'OTROS GASTOS', 'OTROS GASTOS', 'OTROS GASTOS', 'OTROS GASTOS',\n",
              "       'OTROS GASTOS', 'OTROS GASTOS', 'OTROS GASTOS', 'OTROS GASTOS',\n",
              "       'OTROS GASTOS', 'OTROS GASTOS', 'COMPRAS', 'OTROS GASTOS',\n",
              "       'OTROS GASTOS', 'OTROS GASTOS', 'OTROS GASTOS', 'OTROS GASTOS',\n",
              "       'OTROS GASTOS', 'OTROS GASTOS', 'OTROS GASTOS', 'OTROS GASTOS',\n",
              "       'OTROS GASTOS', 'OTROS GASTOS', 'OTROS GASTOS', 'COMPRAS',\n",
              "       'OTROS GASTOS', 'OTROS GASTOS', 'COMPRAS', 'OTROS GASTOS',\n",
              "       'OTROS GASTOS', 'COMPRAS', 'OTROS GASTOS', 'OTROS GASTOS',\n",
              "       'OTROS GASTOS', 'OTROS GASTOS', 'OTROS GASTOS', 'OTROS GASTOS',\n",
              "       'OTROS GASTOS', 'OTROS GASTOS', 'OTROS GASTOS', 'OTROS GASTOS',\n",
              "       'OTROS GASTOS', 'OTROS GASTOS', 'OTROS GASTOS', 'OTROS GASTOS',\n",
              "       'OTROS GASTOS', 'OTROS GASTOS', 'COMPRAS', 'OTROS GASTOS',\n",
              "       'OTROS GASTOS', 'OTROS GASTOS', 'OTROS GASTOS', 'COMPRAS',\n",
              "       'COMPRAS', 'OTROS GASTOS', 'OTROS GASTOS', 'OTROS GASTOS',\n",
              "       'OTROS GASTOS', 'OTROS GASTOS', 'OTROS GASTOS', 'OTROS GASTOS',\n",
              "       'COMPRAS', 'OTROS GASTOS', 'OTROS GASTOS', 'OTROS GASTOS',\n",
              "       'COMPRAS', 'OTROS GASTOS', 'COMPRAS', 'OTROS GASTOS',\n",
              "       'OTROS GASTOS', 'COMPRAS', 'COMPRAS', 'OTROS GASTOS',\n",
              "       'OTROS GASTOS', 'OTROS GASTOS', 'OTROS GASTOS', 'OTROS GASTOS',\n",
              "       'OTROS GASTOS', 'OTROS GASTOS', 'OTROS GASTOS', 'OTROS GASTOS',\n",
              "       'COMPRAS', 'COMPRAS', 'OTROS GASTOS', 'OTROS GASTOS',\n",
              "       'OTROS GASTOS', 'OTROS GASTOS', 'OTROS GASTOS', 'COMPRAS',\n",
              "       'COMPRAS', 'OTROS GASTOS', 'OTROS GASTOS', 'OTROS GASTOS',\n",
              "       'OTROS GASTOS', 'OTROS GASTOS', 'OTROS GASTOS', 'OTROS GASTOS',\n",
              "       'COMPRAS', 'OTROS GASTOS', 'OTROS GASTOS', 'COMPRAS',\n",
              "       'OTROS GASTOS', 'OTROS GASTOS', 'OTROS GASTOS', 'OTROS GASTOS',\n",
              "       'COMPRAS', 'COMPRAS', 'OTROS GASTOS', 'OTROS GASTOS',\n",
              "       'OTROS GASTOS', 'COMPRAS', 'OTROS GASTOS', 'OTROS GASTOS',\n",
              "       'OTROS GASTOS', 'OTROS GASTOS', 'OTROS GASTOS', 'OTROS GASTOS',\n",
              "       'OTROS GASTOS', 'OTROS GASTOS', 'OTROS GASTOS', 'COMPRAS',\n",
              "       'OTROS GASTOS', 'COMPRAS', 'COMPRAS', 'OTROS GASTOS',\n",
              "       'OTROS GASTOS', 'OTROS GASTOS', 'OTROS GASTOS', 'COMPRAS',\n",
              "       'OTROS GASTOS', 'OTROS GASTOS', 'OTROS GASTOS', 'COMPRAS',\n",
              "       'OTROS GASTOS', 'OTROS GASTOS', 'OTROS GASTOS', 'OTROS GASTOS',\n",
              "       'OTROS GASTOS', 'OTROS GASTOS', 'OTROS GASTOS', 'OTROS GASTOS',\n",
              "       'OTROS GASTOS', 'OTROS GASTOS', 'OTROS GASTOS', 'OTROS GASTOS',\n",
              "       'OTROS GASTOS', 'OTROS GASTOS', 'OTROS GASTOS', 'OTROS GASTOS',\n",
              "       'OTROS GASTOS', 'OTROS GASTOS', 'OTROS GASTOS', 'OTROS GASTOS',\n",
              "       'OTROS GASTOS', 'OTROS GASTOS', 'COMPRAS', 'OTROS GASTOS',\n",
              "       'OTROS GASTOS', 'OTROS GASTOS', 'OTROS GASTOS', 'OTROS GASTOS',\n",
              "       'OTROS GASTOS', 'OTROS GASTOS', 'COMPRAS', 'OTROS GASTOS',\n",
              "       'OTROS GASTOS', 'OTROS GASTOS', 'COMPRAS', 'COMPRAS',\n",
              "       'OTROS GASTOS', 'OTROS GASTOS', 'OTROS GASTOS', 'OTROS GASTOS',\n",
              "       'OTROS GASTOS', 'OTROS GASTOS', 'OTROS GASTOS', 'OTROS GASTOS',\n",
              "       'OTROS GASTOS', 'OTROS GASTOS', 'OTROS GASTOS', 'OTROS GASTOS',\n",
              "       'OTROS GASTOS', 'OTROS GASTOS', 'OTROS GASTOS', 'OTROS GASTOS',\n",
              "       'OTROS GASTOS', 'OTROS GASTOS', 'OTROS GASTOS', 'OTROS GASTOS',\n",
              "       'OTROS GASTOS', 'OTROS GASTOS', 'OTROS GASTOS', 'OTROS GASTOS',\n",
              "       'OTROS GASTOS', 'OTROS GASTOS', 'OTROS GASTOS', 'OTROS GASTOS',\n",
              "       'COMPRAS', 'OTROS GASTOS', 'OTROS GASTOS', 'OTROS GASTOS',\n",
              "       'OTROS GASTOS', 'COMPRAS', 'COMPRAS', 'OTROS GASTOS',\n",
              "       'OTROS GASTOS', 'OTROS GASTOS', 'OTROS GASTOS', 'OTROS GASTOS',\n",
              "       'OTROS GASTOS', 'OTROS GASTOS', 'OTROS GASTOS', 'OTROS GASTOS',\n",
              "       'OTROS GASTOS', 'OTROS GASTOS', 'OTROS GASTOS', 'OTROS GASTOS',\n",
              "       'COMPRAS', 'OTROS GASTOS', 'OTROS GASTOS', 'OTROS GASTOS',\n",
              "       'OTROS GASTOS', 'OTROS GASTOS', 'OTROS GASTOS', 'OTROS GASTOS',\n",
              "       'OTROS GASTOS', 'COMPRAS', 'OTROS GASTOS', 'OTROS GASTOS',\n",
              "       'OTROS GASTOS', 'OTROS GASTOS', 'OTROS GASTOS', 'OTROS GASTOS',\n",
              "       'OTROS GASTOS', 'OTROS GASTOS', 'OTROS GASTOS', 'OTROS GASTOS',\n",
              "       'OTROS GASTOS', 'OTROS GASTOS', 'COMPRAS', 'OTROS GASTOS',\n",
              "       'OTROS GASTOS', 'OTROS GASTOS', 'OTROS GASTOS', 'OTROS GASTOS',\n",
              "       'OTROS GASTOS', 'OTROS GASTOS', 'OTROS GASTOS', 'OTROS GASTOS',\n",
              "       'OTROS GASTOS', 'OTROS GASTOS', 'OTROS GASTOS', 'OTROS GASTOS',\n",
              "       'OTROS GASTOS', 'OTROS GASTOS', 'COMPRAS', 'OTROS GASTOS',\n",
              "       'OTROS GASTOS', 'OTROS GASTOS', 'COMPRAS', 'OTROS GASTOS',\n",
              "       'OTROS GASTOS', 'OTROS GASTOS', 'OTROS GASTOS', 'OTROS GASTOS',\n",
              "       'OTROS GASTOS', 'OTROS GASTOS', 'OTROS GASTOS', 'COMPRAS',\n",
              "       'OTROS GASTOS', 'OTROS GASTOS', 'OTROS GASTOS', 'OTROS GASTOS',\n",
              "       'OTROS GASTOS', 'OTROS GASTOS', 'OTROS GASTOS', 'OTROS GASTOS',\n",
              "       'OTROS GASTOS', 'OTROS GASTOS', 'OTROS GASTOS', 'OTROS GASTOS',\n",
              "       'OTROS GASTOS', 'OTROS GASTOS', 'OTROS GASTOS', 'OTROS GASTOS',\n",
              "       'OTROS GASTOS', 'OTROS GASTOS', 'COMPRAS', 'OTROS GASTOS',\n",
              "       'OTROS GASTOS', 'OTROS GASTOS', 'OTROS GASTOS', 'OTROS GASTOS',\n",
              "       'COMPRAS', 'OTROS GASTOS', 'OTROS GASTOS', 'OTROS GASTOS',\n",
              "       'OTROS GASTOS', 'OTROS GASTOS', 'OTROS GASTOS', 'OTROS GASTOS',\n",
              "       'OTROS GASTOS', 'OTROS GASTOS', 'OTROS GASTOS', 'COMPRAS',\n",
              "       'COMPRAS', 'OTROS GASTOS', 'OTROS GASTOS', 'OTROS GASTOS',\n",
              "       'OTROS GASTOS', 'OTROS GASTOS', 'OTROS GASTOS', 'OTROS GASTOS',\n",
              "       'OTROS GASTOS', 'OTROS GASTOS', 'OTROS GASTOS', 'COMPRAS',\n",
              "       'COMPRAS', 'OTROS GASTOS', 'OTROS GASTOS', 'OTROS GASTOS',\n",
              "       'OTROS GASTOS', 'OTROS GASTOS', 'OTROS GASTOS', 'OTROS GASTOS',\n",
              "       'OTROS GASTOS', 'OTROS GASTOS', 'OTROS GASTOS', 'OTROS GASTOS',\n",
              "       'OTROS GASTOS', 'OTROS GASTOS', 'OTROS GASTOS', 'OTROS GASTOS',\n",
              "       'OTROS GASTOS', 'OTROS GASTOS', 'OTROS GASTOS', 'OTROS GASTOS',\n",
              "       'OTROS GASTOS', 'OTROS GASTOS', 'OTROS GASTOS', 'OTROS GASTOS',\n",
              "       'OTROS GASTOS', 'OTROS GASTOS', 'OTROS GASTOS', 'OTROS GASTOS',\n",
              "       'OTROS GASTOS', 'OTROS GASTOS', 'OTROS GASTOS', 'COMPRAS',\n",
              "       'OTROS GASTOS', 'OTROS GASTOS', 'OTROS GASTOS', 'OTROS GASTOS',\n",
              "       'COMPRAS', 'COMPRAS', 'OTROS GASTOS', 'OTROS GASTOS',\n",
              "       'OTROS GASTOS', 'OTROS GASTOS', 'OTROS GASTOS', 'OTROS GASTOS'],\n",
              "      dtype=object)"
            ]
          },
          "metadata": {},
          "execution_count": 28
        }
      ]
    },
    {
      "cell_type": "code",
      "source": [
        "from sklearn.metrics import confusion_matrix\n",
        "matriz = confusion_matrix(y_test, y_pred)\n",
        "print('Matriz de Confusión:')\n",
        "print(matriz)"
      ],
      "metadata": {
        "colab": {
          "base_uri": "https://localhost:8080/"
        },
        "outputId": "4b26593e-1e5a-48b4-c938-1a9f484e238f",
        "id": "8J1kn1eYUKUD"
      },
      "execution_count": null,
      "outputs": [
        {
          "output_type": "stream",
          "name": "stdout",
          "text": [
            "Matriz de Confusión:\n",
            "[[ 56 282]\n",
            " [ 62 374]]\n"
          ]
        }
      ]
    },
    {
      "cell_type": "code",
      "source": [
        "from sklearn.metrics import precision_score\n",
        "\n",
        "precision_2022 = precision_score(y_test, y_pred, average=\"binary\", pos_label=\"COMPRAS\")\n",
        "print('Precisión del modelo:')\n",
        "print(precision_2022)"
      ],
      "metadata": {
        "colab": {
          "base_uri": "https://localhost:8080/"
        },
        "outputId": "84be295d-01a5-4914-f7cb-4a4c7b501e9c",
        "id": "WPff6g0bUKUD"
      },
      "execution_count": null,
      "outputs": [
        {
          "output_type": "stream",
          "name": "stdout",
          "text": [
            "Precisión del modelo:\n",
            "0.4745762711864407\n"
          ]
        }
      ]
    },
    {
      "cell_type": "code",
      "source": [
        "from sklearn.metrics import accuracy_score\n",
        "\n",
        "exactitud_2022 = accuracy_score(y_test, y_pred)\n",
        "print('Exactitud del modelo:')\n",
        "print(exactitud_2022)"
      ],
      "metadata": {
        "colab": {
          "base_uri": "https://localhost:8080/"
        },
        "outputId": "d43ad616-eb73-44a0-9357-32b1d55b01a8",
        "id": "P7Rb-Y4tUKUD"
      },
      "execution_count": null,
      "outputs": [
        {
          "output_type": "stream",
          "name": "stdout",
          "text": [
            "Exactitud del modelo:\n",
            "0.5555555555555556\n"
          ]
        }
      ]
    },
    {
      "cell_type": "code",
      "source": [
        "from sklearn.metrics import recall_score\n",
        "\n",
        "sensibilidad_2022 = recall_score(y_test, y_pred, average=\"binary\", pos_label=\"COMPRAS\")\n",
        "print('Sensibilidad del modelo:')\n",
        "print(sensibilidad_2022)"
      ],
      "metadata": {
        "colab": {
          "base_uri": "https://localhost:8080/"
        },
        "outputId": "d98bf5f6-bd4c-48b5-9365-89142078fb95",
        "id": "yEPdXxsCUKUD"
      },
      "execution_count": null,
      "outputs": [
        {
          "output_type": "stream",
          "name": "stdout",
          "text": [
            "Sensibilidad del modelo:\n",
            "0.16568047337278108\n"
          ]
        }
      ]
    },
    {
      "cell_type": "markdown",
      "source": [
        "## **Gastos y costos 2023**"
      ],
      "metadata": {
        "id": "SE6-O-mpcAjT"
      }
    },
    {
      "cell_type": "code",
      "source": [
        "unico = np.unique(gastos2023['TIPO GASTO'])\n",
        "unico"
      ],
      "metadata": {
        "colab": {
          "base_uri": "https://localhost:8080/"
        },
        "outputId": "95b6c517-6034-4d47-c5b2-2dd5c03e327b",
        "id": "w89zlS_JegE3"
      },
      "execution_count": null,
      "outputs": [
        {
          "output_type": "execute_result",
          "data": {
            "text/plain": [
              "array(['0', 'ALIMENTOS', 'ARRENDAMIENTO FINANCIERO', 'CAPACITACION',\n",
              "       'COMISION BANCARIA', 'COMISION MIXTA', 'COMPRAS', 'COMPRAS ',\n",
              "       'CREDITO ', 'DERECHOS', 'FLETES', 'GASOLINA', 'GERENCIA ADMON',\n",
              "       'HONORARIOS CONTABLES', 'HONORARIOS PM', 'IMSS/INFONAVIT',\n",
              "       'MAQUINARIA', 'MENSAJERIA', 'MONITOREO CAMARAS ADT', 'MTT OFICINA',\n",
              "       'MTTO COMPUTO', 'MTTO LOCAL', 'MTTO MAQUINARIA', 'MTTO OFICINA ',\n",
              "       'MTTO TRANSPORTE', 'NO DEDUCIBLE', 'PAPELERIA', 'PAQUETERIA',\n",
              "       'PUBLICIDAD', 'RENTA AUTO', 'RENTA COPIADORA', 'SEGUROS',\n",
              "       'SUELDOS DIRECCION', 'SUSCRIPCIONES', 'TELEFONO', 'UNIFORMES',\n",
              "       'VALES DESPENSA', 'VARIOS'], dtype=object)"
            ]
          },
          "metadata": {},
          "execution_count": 33
        }
      ]
    },
    {
      "cell_type": "code",
      "source": [
        "gastos2023['TIPO GASTO']= gastos2023['TIPO GASTO'].replace(['0', 'ALIMENTOS', 'ARRENDAMIENTO FINANCIERO', 'CAPACITACION',\n",
        "       'COMISION BANCARIA', 'COMISION MIXTA',\n",
        "       'CREDITO ', 'DERECHOS', 'FLETES', 'GASOLINA', 'GERENCIA ADMON',\n",
        "       'HONORARIOS CONTABLES', 'HONORARIOS PM', 'IMSS/INFONAVIT',\n",
        "       'MAQUINARIA', 'MENSAJERIA', 'MONITOREO CAMARAS ADT', 'MTT OFICINA',\n",
        "       'MTTO COMPUTO', 'MTTO LOCAL', 'MTTO MAQUINARIA', 'MTTO OFICINA ',\n",
        "       'MTTO TRANSPORTE', 'NO DEDUCIBLE', 'PAPELERIA', 'PAQUETERIA',\n",
        "       'PUBLICIDAD', 'RENTA AUTO', 'RENTA COPIADORA', 'SEGUROS',\n",
        "       'SUELDOS DIRECCION', 'SUSCRIPCIONES', 'TELEFONO', 'UNIFORMES',\n",
        "       'VALES DESPENSA', 'VARIOS'], \"OTROS GASTOS\")\n",
        "gastos2023['TIPO GASTO']= gastos2023['TIPO GASTO'].replace(['COMPRAS', 'COMPRAS '], 'COMPRAS')\n",
        "gastos2023['TIPO GASTO'].value_counts()"
      ],
      "metadata": {
        "colab": {
          "base_uri": "https://localhost:8080/"
        },
        "outputId": "c8ee0b65-a912-4ecd-f80d-8559dc3bc951",
        "id": "hjmMf3a4egE3"
      },
      "execution_count": null,
      "outputs": [
        {
          "output_type": "execute_result",
          "data": {
            "text/plain": [
              "COMPRAS         205\n",
              "OTROS GASTOS    192\n",
              "Name: TIPO GASTO, dtype: int64"
            ]
          },
          "metadata": {},
          "execution_count": 34
        }
      ]
    },
    {
      "cell_type": "code",
      "source": [
        "X= gastos2023[['TOTAL MX']]\n",
        "y= gastos2023['TIPO GASTO']\n",
        "X_train, X_test, y_train, y_test = train_test_split(X, y, test_size=0.3, random_state =None)\n",
        "escalar = StandardScaler()\n",
        "X_train = escalar.fit_transform(X_train)\n",
        "X_test = escalar.transform(X_test)\n",
        "from sklearn.linear_model import LogisticRegression\n",
        "algoritmo = LogisticRegression()\n",
        "algoritmo.fit(X_train, y_train)\n",
        "y_pred = algoritmo.predict(X_test) "
      ],
      "metadata": {
        "id": "pcbJCmsgegE4"
      },
      "execution_count": null,
      "outputs": []
    },
    {
      "cell_type": "code",
      "source": [
        "#Calculo la precisión del modelo\n",
        "from sklearn.metrics import precision_score\n",
        "precision_2023 = precision_score(y_test, y_pred, average=\"binary\", pos_label=\"COMPRAS\")\n",
        "\n",
        "\n",
        "#Calculo la exactitud del modelo\n",
        "from sklearn.metrics import accuracy_score\n",
        "exactitud_2023 = accuracy_score(y_test, y_pred)\n",
        "\n",
        "#Calculo la sensibilidad del modelo\n",
        "from sklearn.metrics import recall_score\n",
        "sensibilidad_2023 = recall_score(y_test, y_pred, average=\"binary\", pos_label=\"COMPRAS\")\n",
        "\n",
        "\n",
        "print('Precisión del modelo: %.2f' % precision_2023)\n",
        "print('Exactitud del modelo: %.2f' % exactitud_2023)\n",
        "print('Sensibilidad del modelo: %.2f' % sensibilidad_2023)"
      ],
      "metadata": {
        "colab": {
          "base_uri": "https://localhost:8080/"
        },
        "outputId": "93ddaedb-20b8-41ed-b555-749827e5a311",
        "id": "ctSsed8RegE5"
      },
      "execution_count": null,
      "outputs": [
        {
          "output_type": "stream",
          "name": "stdout",
          "text": [
            "Precisión del modelo: 0.54\n",
            "Exactitud del modelo: 0.54\n",
            "Sensibilidad del modelo: 1.00\n"
          ]
        }
      ]
    },
    {
      "cell_type": "markdown",
      "source": [
        "## **Coeficientes de precisión, exactitud y sensibilidad**"
      ],
      "metadata": {
        "id": "1alKxx_mHdvH"
      }
    },
    {
      "cell_type": "code",
      "source": [
        "coefdet = {'Coeficientes': ['Precisión', 'Exactitud', 'Sensibilidad'],\n",
        "           '2020':[precision_2020, exactitud_2020, sensibilidad_2020],\n",
        "           '2021':[precision_2021, exactitud_2021, sensibilidad_2021],\n",
        "           '2022':[precision_2022, exactitud_2022, sensibilidad_2022],\n",
        "           '2023':[precision_2023, exactitud_2023, sensibilidad_2023]}\n",
        "coefdet = pd.DataFrame(coefdet)\n",
        "coefdet"
      ],
      "metadata": {
        "id": "0k9s7GmLXPPd",
        "colab": {
          "base_uri": "https://localhost:8080/",
          "height": 143
        },
        "outputId": "78abd2fd-db94-4d0f-a854-d352f466fedc"
      },
      "execution_count": null,
      "outputs": [
        {
          "output_type": "execute_result",
          "data": {
            "text/plain": [
              "   Coeficientes      2020      2021      2022      2023\n",
              "0     Precisión  0.550336  0.534314  0.474576  0.541667\n",
              "1     Exactitud  0.571286  0.538968  0.555556  0.541667\n",
              "2  Sensibilidad  0.184270  0.486607  0.165680  1.000000"
            ],
            "text/html": [
              "\n",
              "  <div id=\"df-e3be8e8f-5493-4a45-8765-c89d4c754d77\">\n",
              "    <div class=\"colab-df-container\">\n",
              "      <div>\n",
              "<style scoped>\n",
              "    .dataframe tbody tr th:only-of-type {\n",
              "        vertical-align: middle;\n",
              "    }\n",
              "\n",
              "    .dataframe tbody tr th {\n",
              "        vertical-align: top;\n",
              "    }\n",
              "\n",
              "    .dataframe thead th {\n",
              "        text-align: right;\n",
              "    }\n",
              "</style>\n",
              "<table border=\"1\" class=\"dataframe\">\n",
              "  <thead>\n",
              "    <tr style=\"text-align: right;\">\n",
              "      <th></th>\n",
              "      <th>Coeficientes</th>\n",
              "      <th>2020</th>\n",
              "      <th>2021</th>\n",
              "      <th>2022</th>\n",
              "      <th>2023</th>\n",
              "    </tr>\n",
              "  </thead>\n",
              "  <tbody>\n",
              "    <tr>\n",
              "      <th>0</th>\n",
              "      <td>Precisión</td>\n",
              "      <td>0.550336</td>\n",
              "      <td>0.534314</td>\n",
              "      <td>0.474576</td>\n",
              "      <td>0.541667</td>\n",
              "    </tr>\n",
              "    <tr>\n",
              "      <th>1</th>\n",
              "      <td>Exactitud</td>\n",
              "      <td>0.571286</td>\n",
              "      <td>0.538968</td>\n",
              "      <td>0.555556</td>\n",
              "      <td>0.541667</td>\n",
              "    </tr>\n",
              "    <tr>\n",
              "      <th>2</th>\n",
              "      <td>Sensibilidad</td>\n",
              "      <td>0.184270</td>\n",
              "      <td>0.486607</td>\n",
              "      <td>0.165680</td>\n",
              "      <td>1.000000</td>\n",
              "    </tr>\n",
              "  </tbody>\n",
              "</table>\n",
              "</div>\n",
              "      <button class=\"colab-df-convert\" onclick=\"convertToInteractive('df-e3be8e8f-5493-4a45-8765-c89d4c754d77')\"\n",
              "              title=\"Convert this dataframe to an interactive table.\"\n",
              "              style=\"display:none;\">\n",
              "        \n",
              "  <svg xmlns=\"http://www.w3.org/2000/svg\" height=\"24px\"viewBox=\"0 0 24 24\"\n",
              "       width=\"24px\">\n",
              "    <path d=\"M0 0h24v24H0V0z\" fill=\"none\"/>\n",
              "    <path d=\"M18.56 5.44l.94 2.06.94-2.06 2.06-.94-2.06-.94-.94-2.06-.94 2.06-2.06.94zm-11 1L8.5 8.5l.94-2.06 2.06-.94-2.06-.94L8.5 2.5l-.94 2.06-2.06.94zm10 10l.94 2.06.94-2.06 2.06-.94-2.06-.94-.94-2.06-.94 2.06-2.06.94z\"/><path d=\"M17.41 7.96l-1.37-1.37c-.4-.4-.92-.59-1.43-.59-.52 0-1.04.2-1.43.59L10.3 9.45l-7.72 7.72c-.78.78-.78 2.05 0 2.83L4 21.41c.39.39.9.59 1.41.59.51 0 1.02-.2 1.41-.59l7.78-7.78 2.81-2.81c.8-.78.8-2.07 0-2.86zM5.41 20L4 18.59l7.72-7.72 1.47 1.35L5.41 20z\"/>\n",
              "  </svg>\n",
              "      </button>\n",
              "      \n",
              "  <style>\n",
              "    .colab-df-container {\n",
              "      display:flex;\n",
              "      flex-wrap:wrap;\n",
              "      gap: 12px;\n",
              "    }\n",
              "\n",
              "    .colab-df-convert {\n",
              "      background-color: #E8F0FE;\n",
              "      border: none;\n",
              "      border-radius: 50%;\n",
              "      cursor: pointer;\n",
              "      display: none;\n",
              "      fill: #1967D2;\n",
              "      height: 32px;\n",
              "      padding: 0 0 0 0;\n",
              "      width: 32px;\n",
              "    }\n",
              "\n",
              "    .colab-df-convert:hover {\n",
              "      background-color: #E2EBFA;\n",
              "      box-shadow: 0px 1px 2px rgba(60, 64, 67, 0.3), 0px 1px 3px 1px rgba(60, 64, 67, 0.15);\n",
              "      fill: #174EA6;\n",
              "    }\n",
              "\n",
              "    [theme=dark] .colab-df-convert {\n",
              "      background-color: #3B4455;\n",
              "      fill: #D2E3FC;\n",
              "    }\n",
              "\n",
              "    [theme=dark] .colab-df-convert:hover {\n",
              "      background-color: #434B5C;\n",
              "      box-shadow: 0px 1px 3px 1px rgba(0, 0, 0, 0.15);\n",
              "      filter: drop-shadow(0px 1px 2px rgba(0, 0, 0, 0.3));\n",
              "      fill: #FFFFFF;\n",
              "    }\n",
              "  </style>\n",
              "\n",
              "      <script>\n",
              "        const buttonEl =\n",
              "          document.querySelector('#df-e3be8e8f-5493-4a45-8765-c89d4c754d77 button.colab-df-convert');\n",
              "        buttonEl.style.display =\n",
              "          google.colab.kernel.accessAllowed ? 'block' : 'none';\n",
              "\n",
              "        async function convertToInteractive(key) {\n",
              "          const element = document.querySelector('#df-e3be8e8f-5493-4a45-8765-c89d4c754d77');\n",
              "          const dataTable =\n",
              "            await google.colab.kernel.invokeFunction('convertToInteractive',\n",
              "                                                     [key], {});\n",
              "          if (!dataTable) return;\n",
              "\n",
              "          const docLinkHtml = 'Like what you see? Visit the ' +\n",
              "            '<a target=\"_blank\" href=https://colab.research.google.com/notebooks/data_table.ipynb>data table notebook</a>'\n",
              "            + ' to learn more about interactive tables.';\n",
              "          element.innerHTML = '';\n",
              "          dataTable['output_type'] = 'display_data';\n",
              "          await google.colab.output.renderOutput(dataTable, element);\n",
              "          const docLink = document.createElement('div');\n",
              "          docLink.innerHTML = docLinkHtml;\n",
              "          element.appendChild(docLink);\n",
              "        }\n",
              "      </script>\n",
              "    </div>\n",
              "  </div>\n",
              "  "
            ]
          },
          "metadata": {},
          "execution_count": 38
        }
      ]
    }
  ]
}